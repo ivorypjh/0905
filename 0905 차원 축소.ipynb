{
 "cells": [
  {
   "cell_type": "markdown",
   "id": "6caae924",
   "metadata": {},
   "source": [
    "## 공용 코드"
   ]
  },
  {
   "cell_type": "code",
   "execution_count": 1,
   "id": "f80915e8",
   "metadata": {},
   "outputs": [],
   "source": [
    "# 파이썬\n",
    "# ≥3.5 필수\n",
    "import sys\n",
    "assert sys.version_info >= (3, 5)\n",
    "\n",
    "# 공통 모듈 임포트\n",
    "import numpy as np\n",
    "import pandas as pd\n",
    "import os\n",
    "\n",
    "# 깔끔한 그래프 출력을 위해 %matplotlib inline\n",
    "import matplotlib as mpl\n",
    "import matplotlib.pyplot as plt\n",
    "\n",
    "mpl.rc('axes', labelsize=14)\n",
    "mpl.rc('xtick', labelsize=12)\n",
    "mpl.rc('ytick', labelsize=12)\n",
    "\n",
    "\n",
    "# 그림을 저장할 위치\n",
    "PROJECT_ROOT_DIR = \".\"\n",
    "CHAPTER_ID = \"classification\"\n",
    "IMAGES_PATH = os.path.join(PROJECT_ROOT_DIR, \"images\", CHAPTER_ID)\n",
    "# 이미지를 저장할 디렉토리 생성\n",
    "os.makedirs(IMAGES_PATH, exist_ok=True)\n",
    "\n",
    "# 이미지 저장\n",
    "def save_fig(fig_id, tight_layout=True, fig_extension=\"png\", resolution=300):\n",
    "    path = os.path.join(IMAGES_PATH, fig_id + \".\" + fig_extension)\n",
    "    print(\"그림 저장:\", fig_id)\n",
    "    if tight_layout:\n",
    "        plt.tight_layout()\n",
    "    plt.savefig(path, format=fig_extension, dpi=resolution)\n",
    "\n",
    "from matplotlib import font_manager, rc\n",
    "import platform\n",
    "\n",
    "path = \"c:/Windows/Fonts/malgun.ttf\"\n",
    "if platform.system() == 'Darwin':\n",
    "    rc('font', family='AppleGothic')\n",
    "elif platform.system() == 'Windows':\n",
    "    font_name = font_manager.FontProperties(fname=path).get_name()\n",
    "    rc('font', family=font_name)\n",
    "    \n",
    "    \n",
    "mpl.rcParams['axes.unicode_minus'] = False\n",
    "# Jupyter Notebook의 출력을 소수점 이하 3자리로 제한\n",
    "%precision 3\n",
    "\n",
    "# 그래픽 출력을 좀 더 고급화하기 위한 라이브러리\n",
    "import seaborn as sns\n",
    "\n",
    "# 과학 기술 통계 라이브러리\n",
    "import scipy as sp\n",
    "from scipy import stats\n",
    "\n",
    "# 사이킷런 ≥0.20 필수\n",
    "# 0.20 이상 버전에서 데이터 변환을 위한 Transformer 클래스가 추가됨\n",
    "import sklearn\n",
    "assert sklearn.__version__ >= \"0.20\"\n",
    "\n",
    "# 노트북 실행 결과를 동일하게 유지하기 위해 시드 고정\n",
    "# 데이터를 분할할 때 동일한 분할을 만들어 냄\n",
    "np.random.seed(21)"
   ]
  },
  {
   "cell_type": "code",
   "execution_count": 4,
   "id": "9587fea5",
   "metadata": {},
   "outputs": [
    {
     "name": "stderr",
     "output_type": "stream",
     "text": [
      "C:\\Users\\USER\\anaconda3\\lib\\site-packages\\sklearn\\datasets\\_openml.py:932: FutureWarning: The default value of `parser` will change from `'liac-arff'` to `'auto'` in 1.4. You can set `parser='auto'` to silence this warning. Therefore, an `ImportError` will be raised from 1.4 if the dataset is dense and pandas is not installed. Note that the pandas parser may return different data types. See the Notes Section in fetch_openml's API doc for details.\n",
      "  warn(\n"
     ]
    },
    {
     "name": "stdout",
     "output_type": "stream",
     "text": [
      "(52500, 784) (17500, 784)\n"
     ]
    }
   ],
   "source": [
    "# 데이터 가져오기\n",
    "from sklearn.datasets import fetch_openml\n",
    "from sklearn.model_selection import train_test_split\n",
    "\n",
    "# 28x28 크기의 이미지\n",
    "mnist = fetch_openml('mnist_784', version = 1, as_frame = False)\n",
    "mnist.target = mnist.target.astype(np.uint8)\n",
    "\n",
    "X = mnist['data']\n",
    "y = mnist['target']\n",
    "\n",
    "X_train, X_test, y_train, y_test = train_test_split(X, y)\n",
    "print(X_train.shape, X_test.shape)"
   ]
  },
  {
   "cell_type": "markdown",
   "id": "033a0934",
   "metadata": {},
   "source": [
    "## 랜덤 PCA 와 점진적 PCA 의 시간 복잡도"
   ]
  },
  {
   "cell_type": "code",
   "execution_count": 11,
   "id": "0d38e56e",
   "metadata": {},
   "outputs": [
    {
     "name": "stdout",
     "output_type": "stream",
     "text": [
      "52500 784\n"
     ]
    }
   ],
   "source": [
    "## 훈련 데이터 가져오기\n",
    "\n",
    "filename = './data//my_mnist/MNIST/raw/train-images.idx-ubyte'\n",
    "m, n = X_train.shape\n",
    "\n",
    "# memmap : filename 의 데이터를 메모리에 전부 로드한 것처럼 사용\n",
    "# 실제로는 사용할 때 메모리에 로드함\n",
    "# 메모리는 한정된 자원이기에 메모리 보다 더 큰 데이터를 가지고 훈련하는 경우에 사용\n",
    "X_mm = np.memmap(filename, dtype='float32', mode='write', shape=(m, n))\n",
    "\n",
    "X_mm[:] = X_train\n",
    "print(m, n) \n",
    "# 52500 784"
   ]
  },
  {
   "cell_type": "code",
   "execution_count": 12,
   "id": "b58d9444",
   "metadata": {},
   "outputs": [],
   "source": [
    "# 변수 지우기 - 메모리가 부족하면 gc 를 호출하는 것도 고려\n",
    "del X_mm\n",
    "\n",
    "X_mm = np.memmap(filename, dtype='float32', mode='readonly', shape=(m, n))\n",
    "\n",
    "# 미니 배치의 크기 설정\n",
    "# 배치의 크기는 필요에 따라 임의로 설정\n",
    "# m 은 52500개이고 n_batches 는 100이므로 한 번에 525 개의 데이터를 불러옴\n",
    "n_batches = 100\n",
    "batch_size = m // n_batches"
   ]
  },
  {
   "cell_type": "code",
   "execution_count": 13,
   "id": "6c075229",
   "metadata": {},
   "outputs": [
    {
     "data": {
      "text/html": [
       "<style>#sk-container-id-1 {color: black;background-color: white;}#sk-container-id-1 pre{padding: 0;}#sk-container-id-1 div.sk-toggleable {background-color: white;}#sk-container-id-1 label.sk-toggleable__label {cursor: pointer;display: block;width: 100%;margin-bottom: 0;padding: 0.3em;box-sizing: border-box;text-align: center;}#sk-container-id-1 label.sk-toggleable__label-arrow:before {content: \"▸\";float: left;margin-right: 0.25em;color: #696969;}#sk-container-id-1 label.sk-toggleable__label-arrow:hover:before {color: black;}#sk-container-id-1 div.sk-estimator:hover label.sk-toggleable__label-arrow:before {color: black;}#sk-container-id-1 div.sk-toggleable__content {max-height: 0;max-width: 0;overflow: hidden;text-align: left;background-color: #f0f8ff;}#sk-container-id-1 div.sk-toggleable__content pre {margin: 0.2em;color: black;border-radius: 0.25em;background-color: #f0f8ff;}#sk-container-id-1 input.sk-toggleable__control:checked~div.sk-toggleable__content {max-height: 200px;max-width: 100%;overflow: auto;}#sk-container-id-1 input.sk-toggleable__control:checked~label.sk-toggleable__label-arrow:before {content: \"▾\";}#sk-container-id-1 div.sk-estimator input.sk-toggleable__control:checked~label.sk-toggleable__label {background-color: #d4ebff;}#sk-container-id-1 div.sk-label input.sk-toggleable__control:checked~label.sk-toggleable__label {background-color: #d4ebff;}#sk-container-id-1 input.sk-hidden--visually {border: 0;clip: rect(1px 1px 1px 1px);clip: rect(1px, 1px, 1px, 1px);height: 1px;margin: -1px;overflow: hidden;padding: 0;position: absolute;width: 1px;}#sk-container-id-1 div.sk-estimator {font-family: monospace;background-color: #f0f8ff;border: 1px dotted black;border-radius: 0.25em;box-sizing: border-box;margin-bottom: 0.5em;}#sk-container-id-1 div.sk-estimator:hover {background-color: #d4ebff;}#sk-container-id-1 div.sk-parallel-item::after {content: \"\";width: 100%;border-bottom: 1px solid gray;flex-grow: 1;}#sk-container-id-1 div.sk-label:hover label.sk-toggleable__label {background-color: #d4ebff;}#sk-container-id-1 div.sk-serial::before {content: \"\";position: absolute;border-left: 1px solid gray;box-sizing: border-box;top: 0;bottom: 0;left: 50%;z-index: 0;}#sk-container-id-1 div.sk-serial {display: flex;flex-direction: column;align-items: center;background-color: white;padding-right: 0.2em;padding-left: 0.2em;position: relative;}#sk-container-id-1 div.sk-item {position: relative;z-index: 1;}#sk-container-id-1 div.sk-parallel {display: flex;align-items: stretch;justify-content: center;background-color: white;position: relative;}#sk-container-id-1 div.sk-item::before, #sk-container-id-1 div.sk-parallel-item::before {content: \"\";position: absolute;border-left: 1px solid gray;box-sizing: border-box;top: 0;bottom: 0;left: 50%;z-index: -1;}#sk-container-id-1 div.sk-parallel-item {display: flex;flex-direction: column;z-index: 1;position: relative;background-color: white;}#sk-container-id-1 div.sk-parallel-item:first-child::after {align-self: flex-end;width: 50%;}#sk-container-id-1 div.sk-parallel-item:last-child::after {align-self: flex-start;width: 50%;}#sk-container-id-1 div.sk-parallel-item:only-child::after {width: 0;}#sk-container-id-1 div.sk-dashed-wrapped {border: 1px dashed gray;margin: 0 0.4em 0.5em 0.4em;box-sizing: border-box;padding-bottom: 0.4em;background-color: white;}#sk-container-id-1 div.sk-label label {font-family: monospace;font-weight: bold;display: inline-block;line-height: 1.2em;}#sk-container-id-1 div.sk-label-container {text-align: center;}#sk-container-id-1 div.sk-container {/* jupyter's `normalize.less` sets `[hidden] { display: none; }` but bootstrap.min.css set `[hidden] { display: none !important; }` so we also need the `!important` here to be able to override the default hidden behavior on the sphinx rendered scikit-learn.org. See: https://github.com/scikit-learn/scikit-learn/issues/21755 */display: inline-block !important;position: relative;}#sk-container-id-1 div.sk-text-repr-fallback {display: none;}</style><div id=\"sk-container-id-1\" class=\"sk-top-container\"><div class=\"sk-text-repr-fallback\"><pre>IncrementalPCA(batch_size=525, n_components=153)</pre><b>In a Jupyter environment, please rerun this cell to show the HTML representation or trust the notebook. <br />On GitHub, the HTML representation is unable to render, please try loading this page with nbviewer.org.</b></div><div class=\"sk-container\" hidden><div class=\"sk-item\"><div class=\"sk-estimator sk-toggleable\"><input class=\"sk-toggleable__control sk-hidden--visually\" id=\"sk-estimator-id-1\" type=\"checkbox\" checked><label for=\"sk-estimator-id-1\" class=\"sk-toggleable__label sk-toggleable__label-arrow\">IncrementalPCA</label><div class=\"sk-toggleable__content\"><pre>IncrementalPCA(batch_size=525, n_components=153)</pre></div></div></div></div></div>"
      ],
      "text/plain": [
       "IncrementalPCA(batch_size=525, n_components=153)"
      ]
     },
     "execution_count": 13,
     "metadata": {},
     "output_type": "execute_result"
    }
   ],
   "source": [
    "# 점진적 PCA 적용\n",
    "from sklearn.decomposition import IncrementalPCA\n",
    "\n",
    "# n_components 는 이전에서 찾았던 차원의 수\n",
    "inc_pca = IncrementalPCA(n_components = 153, batch_size = batch_size)\n",
    "inc_pca.fit(X_mm)"
   ]
  },
  {
   "cell_type": "code",
   "execution_count": 17,
   "id": "6cd21404",
   "metadata": {},
   "outputs": [],
   "source": [
    "# 랜덤 PCA\n",
    "from sklearn.decomposition import PCA\n",
    "\n",
    "# 일반 PCA 는 n_components 를 설정할 때 0 ~ 1 사이로 설정하면 분산의 비율\n",
    "# 2 보다 큰 정수를 사용하면 주성분의 갯수가 됨\n",
    "# 랜덤 PCA 는 정수로만 설정 가능\n",
    "# 주성분의 갯수를 보고 가장 근사한 값을 찾아가는 방식이라서\n",
    "# 주성분의 갯수가 먼저 결정되어야 함\n",
    "rnd_pca = PCA(n_components = 153, svd_solver = 'randomized')\n",
    "X_reduced = rnd_pca.fit_transform(X_train)\n",
    "# 전진적 PCA 는 미니 배치를 이용하지만\n",
    "# 랜덤 PCA 는 사용할 수 없어서 전체 데이터를 사용하므로\n",
    "# 둘을 훈련하는데 사용하는 데이터가 다름"
   ]
  },
  {
   "cell_type": "code",
   "execution_count": 19,
   "id": "bc5d9bc3",
   "metadata": {},
   "outputs": [
    {
     "name": "stdout",
     "output_type": "stream",
     "text": [
      "주성분 갯수 : 2\n",
      "class name : PCA 시간 : 3.140089750289917\n",
      "class name : PCA 시간 : 0.6995854377746582\n",
      "class name : IncrementalPCA 시간 : 17.43005633354187\n",
      "주성분 갯수 : 10\n",
      "class name : PCA 시간 : 3.1304337978363037\n",
      "class name : PCA 시간 : 0.8234667778015137\n",
      "class name : IncrementalPCA 시간 : 18.14785361289978\n",
      "주성분 갯수 : 153\n",
      "class name : PCA 시간 : 3.3573644161224365\n",
      "class name : PCA 시간 : 2.385624408721924\n",
      "class name : IncrementalPCA 시간 : 20.497457265853882\n"
     ]
    }
   ],
   "source": [
    "# 주성분의 개수에 따른 시간 복잡도\n",
    "\n",
    "import time\n",
    "\n",
    "for n_components in (2, 10, 153):\n",
    "    print('주성분 갯수 :', n_components)\n",
    "    \n",
    "    # 3가지에 대한 PCA 를 모두 생성\n",
    "    regular_pca = PCA(n_components = n_components, svd_solver = 'full')\n",
    "    # 랜덤 PCA 는 주성분 갯수에 영향을 많이 받음\n",
    "    rnd_pca = PCA(n_components = n_components, svd_solver = 'randomized', \n",
    "                  random_state = 21)\n",
    "    # 점진적 PCA 는 데이터를 나누어 훈련하므로 데이터가 많거나 온라인 상황에 사용\n",
    "    inc_pca = IncrementalPCA(n_components = n_components, batch_size = 500)\n",
    "    \n",
    "    # 시간 측정\n",
    "    for pca in (regular_pca, rnd_pca, inc_pca):\n",
    "        # t1 과 t2 사이의 시간을 측정\n",
    "        t1 = time.time()\n",
    "        pca.fit(X_train)\n",
    "        t2 = time.time()\n",
    "        print('class name :', pca.__class__.__name__, '시간 :', t2 - t1)\n",
    "        \n",
    "# 일반 PCA 는 3가지 경우 모두 시간이 비슷함\n",
    "# 랜덤 PCA 는 가장 짧은 시간을 보이지만 주성분이 늘어남에 따라 급격하게 오래 걸림\n",
    "# 점진적 PCA 는 전체적으로 시간이 오래 걸리지만 나누어서 학습이 가능\n",
    "        "
   ]
  },
  {
   "cell_type": "code",
   "execution_count": 25,
   "id": "cc852645",
   "metadata": {},
   "outputs": [
    {
     "name": "stdout",
     "output_type": "stream",
     "text": [
      "데이터의 갯수 : 1000\n",
      "class name : PCA 시간 : 0.7699344158172607\n",
      "class name : PCA 시간 : 0.0828855037689209\n",
      "class name : IncrementalPCA 시간 : 1.6353015899658203\n",
      "데이터의 갯수 : 2000\n",
      "class name : PCA 시간 : 3.5080597400665283\n",
      "class name : PCA 시간 : 0.13834691047668457\n",
      "class name : IncrementalPCA 시간 : 2.3047823905944824\n",
      "데이터의 갯수 : 3000\n",
      "class name : PCA 시간 : 11.421747922897339\n",
      "class name : PCA 시간 : 0.2258903980255127\n",
      "class name : IncrementalPCA 시간 : 3.3968465328216553\n",
      "데이터의 갯수 : 4000\n",
      "class name : PCA 시간 : 32.493587017059326\n",
      "class name : PCA 시간 : 0.29796457290649414\n",
      "class name : IncrementalPCA 시간 : 4.349165916442871\n",
      "데이터의 갯수 : 5000\n",
      "class name : PCA 시간 : 47.413435220718384\n",
      "class name : PCA 시간 : 0.37029409408569336\n",
      "class name : IncrementalPCA 시간 : 6.41689920425415\n",
      "데이터의 갯수 : 10000\n",
      "class name : PCA 시간 : 111.25527715682983\n",
      "class name : PCA 시간 : 0.786736249923706\n",
      "class name : IncrementalPCA 시간 : 15.686268091201782\n"
     ]
    }
   ],
   "source": [
    "# 데이터의 개수에 따른 시간 복잡도\n",
    "\n",
    "import time\n",
    "\n",
    "for n_samples in (1000, 2000, 3000, 4000, 5000, 10000):\n",
    "    \n",
    "    n_components = 2\n",
    "    print('데이터의 갯수 :', n_samples)\n",
    "    \n",
    "    # 데이터의 수에 따라 샘플 데이터 생성\n",
    "    X = np.random.randn(5000, n_samples)\n",
    "    \n",
    "    # 3가지에 대한 PCA 를 모두 생성\n",
    "    regular_pca = PCA(n_components = n_components, svd_solver = 'full')\n",
    "    rnd_pca = PCA(n_components = n_components, svd_solver = 'randomized', \n",
    "                  random_state = 21)\n",
    "    inc_pca = IncrementalPCA(n_components = n_components, batch_size = 500)\n",
    "    \n",
    "    # 시간 측정\n",
    "    for pca in (regular_pca, rnd_pca, inc_pca):\n",
    "        t1 = time.time()\n",
    "        pca.fit(X)\n",
    "        t2 = time.time()\n",
    "        print('class name :', pca.__class__.__name__, '시간 :', t2 - t1)"
   ]
  },
  {
   "cell_type": "markdown",
   "id": "23ad3a2e",
   "metadata": {},
   "source": [
    "### 좋은 커널 과 gamma 값 찾기"
   ]
  },
  {
   "cell_type": "code",
   "execution_count": 28,
   "id": "63e62523",
   "metadata": {},
   "outputs": [
    {
     "name": "stdout",
     "output_type": "stream",
     "text": [
      "[[  2.307   0.631  -4.575]\n",
      " [  3.035   8.415   6.809]\n",
      " [  5.667  17.044 -10.103]\n",
      " [  0.91    4.588  -4.825]\n",
      " [  6.214   4.303   2.448]]\n",
      "[ 5.172  7.437 11.507  4.916  6.653]\n",
      "[False  True  True False False]\n"
     ]
    }
   ],
   "source": [
    "# 데이터 가져오기 - 스위스 롤 사용\n",
    "\n",
    "from sklearn.datasets import make_swiss_roll\n",
    "\n",
    "X, t = make_swiss_roll(n_samples = 1000, noise = 0.05, random_state = 21)\n",
    "# t 는 연속형 숫자 데이터이기 때문에 분류에 사용할 수 없음\n",
    "# 그래서 분류에 사용할 수 있는 bool 타입으로 변환\n",
    "y = t > 6.9\n",
    "\n",
    "# 데이터 확인\n",
    "print(X[:5])\n",
    "print(t[:5])\n",
    "print(y[:5])"
   ]
  },
  {
   "cell_type": "code",
   "execution_count": 32,
   "id": "260963d3",
   "metadata": {},
   "outputs": [
    {
     "data": {
      "text/html": [
       "<style>#sk-container-id-2 {color: black;background-color: white;}#sk-container-id-2 pre{padding: 0;}#sk-container-id-2 div.sk-toggleable {background-color: white;}#sk-container-id-2 label.sk-toggleable__label {cursor: pointer;display: block;width: 100%;margin-bottom: 0;padding: 0.3em;box-sizing: border-box;text-align: center;}#sk-container-id-2 label.sk-toggleable__label-arrow:before {content: \"▸\";float: left;margin-right: 0.25em;color: #696969;}#sk-container-id-2 label.sk-toggleable__label-arrow:hover:before {color: black;}#sk-container-id-2 div.sk-estimator:hover label.sk-toggleable__label-arrow:before {color: black;}#sk-container-id-2 div.sk-toggleable__content {max-height: 0;max-width: 0;overflow: hidden;text-align: left;background-color: #f0f8ff;}#sk-container-id-2 div.sk-toggleable__content pre {margin: 0.2em;color: black;border-radius: 0.25em;background-color: #f0f8ff;}#sk-container-id-2 input.sk-toggleable__control:checked~div.sk-toggleable__content {max-height: 200px;max-width: 100%;overflow: auto;}#sk-container-id-2 input.sk-toggleable__control:checked~label.sk-toggleable__label-arrow:before {content: \"▾\";}#sk-container-id-2 div.sk-estimator input.sk-toggleable__control:checked~label.sk-toggleable__label {background-color: #d4ebff;}#sk-container-id-2 div.sk-label input.sk-toggleable__control:checked~label.sk-toggleable__label {background-color: #d4ebff;}#sk-container-id-2 input.sk-hidden--visually {border: 0;clip: rect(1px 1px 1px 1px);clip: rect(1px, 1px, 1px, 1px);height: 1px;margin: -1px;overflow: hidden;padding: 0;position: absolute;width: 1px;}#sk-container-id-2 div.sk-estimator {font-family: monospace;background-color: #f0f8ff;border: 1px dotted black;border-radius: 0.25em;box-sizing: border-box;margin-bottom: 0.5em;}#sk-container-id-2 div.sk-estimator:hover {background-color: #d4ebff;}#sk-container-id-2 div.sk-parallel-item::after {content: \"\";width: 100%;border-bottom: 1px solid gray;flex-grow: 1;}#sk-container-id-2 div.sk-label:hover label.sk-toggleable__label {background-color: #d4ebff;}#sk-container-id-2 div.sk-serial::before {content: \"\";position: absolute;border-left: 1px solid gray;box-sizing: border-box;top: 0;bottom: 0;left: 50%;z-index: 0;}#sk-container-id-2 div.sk-serial {display: flex;flex-direction: column;align-items: center;background-color: white;padding-right: 0.2em;padding-left: 0.2em;position: relative;}#sk-container-id-2 div.sk-item {position: relative;z-index: 1;}#sk-container-id-2 div.sk-parallel {display: flex;align-items: stretch;justify-content: center;background-color: white;position: relative;}#sk-container-id-2 div.sk-item::before, #sk-container-id-2 div.sk-parallel-item::before {content: \"\";position: absolute;border-left: 1px solid gray;box-sizing: border-box;top: 0;bottom: 0;left: 50%;z-index: -1;}#sk-container-id-2 div.sk-parallel-item {display: flex;flex-direction: column;z-index: 1;position: relative;background-color: white;}#sk-container-id-2 div.sk-parallel-item:first-child::after {align-self: flex-end;width: 50%;}#sk-container-id-2 div.sk-parallel-item:last-child::after {align-self: flex-start;width: 50%;}#sk-container-id-2 div.sk-parallel-item:only-child::after {width: 0;}#sk-container-id-2 div.sk-dashed-wrapped {border: 1px dashed gray;margin: 0 0.4em 0.5em 0.4em;box-sizing: border-box;padding-bottom: 0.4em;background-color: white;}#sk-container-id-2 div.sk-label label {font-family: monospace;font-weight: bold;display: inline-block;line-height: 1.2em;}#sk-container-id-2 div.sk-label-container {text-align: center;}#sk-container-id-2 div.sk-container {/* jupyter's `normalize.less` sets `[hidden] { display: none; }` but bootstrap.min.css set `[hidden] { display: none !important; }` so we also need the `!important` here to be able to override the default hidden behavior on the sphinx rendered scikit-learn.org. See: https://github.com/scikit-learn/scikit-learn/issues/21755 */display: inline-block !important;position: relative;}#sk-container-id-2 div.sk-text-repr-fallback {display: none;}</style><div id=\"sk-container-id-2\" class=\"sk-top-container\"><div class=\"sk-text-repr-fallback\"><pre>GridSearchCV(cv=3,\n",
       "             estimator=Pipeline(steps=[(&#x27;kpca&#x27;, KernelPCA(n_components=2)),\n",
       "                                       (&#x27;log_reg&#x27;, LogisticRegression())]),\n",
       "             param_grid=[{&#x27;kpca__gamma&#x27;: array([0.03 , 0.032, 0.034, 0.037, 0.039, 0.041, 0.043, 0.046, 0.048,\n",
       "       0.05 ]),\n",
       "                          &#x27;kpca__kernel&#x27;: [&#x27;rbf&#x27;, &#x27;sigmoid&#x27;]}])</pre><b>In a Jupyter environment, please rerun this cell to show the HTML representation or trust the notebook. <br />On GitHub, the HTML representation is unable to render, please try loading this page with nbviewer.org.</b></div><div class=\"sk-container\" hidden><div class=\"sk-item sk-dashed-wrapped\"><div class=\"sk-label-container\"><div class=\"sk-label sk-toggleable\"><input class=\"sk-toggleable__control sk-hidden--visually\" id=\"sk-estimator-id-2\" type=\"checkbox\" ><label for=\"sk-estimator-id-2\" class=\"sk-toggleable__label sk-toggleable__label-arrow\">GridSearchCV</label><div class=\"sk-toggleable__content\"><pre>GridSearchCV(cv=3,\n",
       "             estimator=Pipeline(steps=[(&#x27;kpca&#x27;, KernelPCA(n_components=2)),\n",
       "                                       (&#x27;log_reg&#x27;, LogisticRegression())]),\n",
       "             param_grid=[{&#x27;kpca__gamma&#x27;: array([0.03 , 0.032, 0.034, 0.037, 0.039, 0.041, 0.043, 0.046, 0.048,\n",
       "       0.05 ]),\n",
       "                          &#x27;kpca__kernel&#x27;: [&#x27;rbf&#x27;, &#x27;sigmoid&#x27;]}])</pre></div></div></div><div class=\"sk-parallel\"><div class=\"sk-parallel-item\"><div class=\"sk-item\"><div class=\"sk-label-container\"><div class=\"sk-label sk-toggleable\"><input class=\"sk-toggleable__control sk-hidden--visually\" id=\"sk-estimator-id-3\" type=\"checkbox\" ><label for=\"sk-estimator-id-3\" class=\"sk-toggleable__label sk-toggleable__label-arrow\">estimator: Pipeline</label><div class=\"sk-toggleable__content\"><pre>Pipeline(steps=[(&#x27;kpca&#x27;, KernelPCA(n_components=2)),\n",
       "                (&#x27;log_reg&#x27;, LogisticRegression())])</pre></div></div></div><div class=\"sk-serial\"><div class=\"sk-item\"><div class=\"sk-serial\"><div class=\"sk-item\"><div class=\"sk-estimator sk-toggleable\"><input class=\"sk-toggleable__control sk-hidden--visually\" id=\"sk-estimator-id-4\" type=\"checkbox\" ><label for=\"sk-estimator-id-4\" class=\"sk-toggleable__label sk-toggleable__label-arrow\">KernelPCA</label><div class=\"sk-toggleable__content\"><pre>KernelPCA(n_components=2)</pre></div></div></div><div class=\"sk-item\"><div class=\"sk-estimator sk-toggleable\"><input class=\"sk-toggleable__control sk-hidden--visually\" id=\"sk-estimator-id-5\" type=\"checkbox\" ><label for=\"sk-estimator-id-5\" class=\"sk-toggleable__label sk-toggleable__label-arrow\">LogisticRegression</label><div class=\"sk-toggleable__content\"><pre>LogisticRegression()</pre></div></div></div></div></div></div></div></div></div></div></div></div>"
      ],
      "text/plain": [
       "GridSearchCV(cv=3,\n",
       "             estimator=Pipeline(steps=[('kpca', KernelPCA(n_components=2)),\n",
       "                                       ('log_reg', LogisticRegression())]),\n",
       "             param_grid=[{'kpca__gamma': array([0.03 , 0.032, 0.034, 0.037, 0.039, 0.041, 0.043, 0.046, 0.048,\n",
       "       0.05 ]),\n",
       "                          'kpca__kernel': ['rbf', 'sigmoid']}])"
      ]
     },
     "execution_count": 32,
     "metadata": {},
     "output_type": "execute_result"
    }
   ],
   "source": [
    "# 모델 훈련\n",
    "\n",
    "from sklearn.model_selection import GridSearchCV\n",
    "from sklearn.linear_model import LogisticRegression\n",
    "from sklearn.pipeline import Pipeline\n",
    "from sklearn.decomposition import KernelPCA\n",
    "\n",
    "# 훈련 모델에 대한 파이프라인\n",
    "clf = Pipeline([\n",
    "    ('kpca', KernelPCA(n_components = 2)),\n",
    "    ('log_reg', LogisticRegression(solver = 'lbfgs')),\n",
    "])\n",
    "\n",
    "# 파라미터 - gamma 값과 사용할 kernel 종류\n",
    "# 위에서 사용한 kpca 에 대해 gamma, kernel 을 적용하는 것이므로\n",
    "# 이름을 통일시켜야 함\n",
    "# log_reg 에 대해 적용하고 싶으면 log_reg__gamma 형식\n",
    "param_grid = [{\n",
    "    'kpca__gamma' : np.linspace(0.03, 0.05, 10),\n",
    "    'kpca__kernel' : ['rbf', 'sigmoid']\n",
    "}]\n",
    "\n",
    "grid_search = GridSearchCV(clf, param_grid, cv = 3)\n",
    "grid_search.fit(X, y)"
   ]
  },
  {
   "cell_type": "code",
   "execution_count": 33,
   "id": "b4c3738d",
   "metadata": {},
   "outputs": [
    {
     "name": "stdout",
     "output_type": "stream",
     "text": [
      "{'kpca__gamma': 0.034444444444444444, 'kpca__kernel': 'rbf'}\n"
     ]
    }
   ],
   "source": [
    "# 최적의 파라미터 확인\n",
    "\n",
    "print(grid_search.best_params_)"
   ]
  },
  {
   "cell_type": "markdown",
   "id": "06fcd5ce",
   "metadata": {},
   "source": [
    "### PCA 를 이용한 잡음 제거"
   ]
  },
  {
   "cell_type": "code",
   "execution_count": 34,
   "id": "47c5ce72",
   "metadata": {},
   "outputs": [
    {
     "data": {
      "text/plain": [
       "(1797, 64)"
      ]
     },
     "execution_count": 34,
     "metadata": {},
     "output_type": "execute_result"
    }
   ],
   "source": [
    "# 숫자 이미지 데이터 가져오기\n",
    "from sklearn.datasets import load_digits\n",
    "\n",
    "digits = load_digits() \n",
    "digits.data.shape # 8x8 크기의 데이터"
   ]
  },
  {
   "cell_type": "code",
   "execution_count": 39,
   "id": "ba41c32f",
   "metadata": {},
   "outputs": [
    {
     "data": {
      "image/png": "[encoded data removed]",
      "text/plain": [
       "<Figure size 1000x400 with 40 Axes>"
      ]
     },
     "metadata": {},
     "output_type": "display_data"
    }
   ],
   "source": [
    "# 이미지 출력 함수\n",
    "def plot_digits(data):\n",
    "    fig, axes = plt.subplots(4, 10, figsize=(10, 4),\n",
    "                subplot_kw={'xticks':[], 'yticks':[]},\n",
    "                gridspec_kw=dict(hspace=0.1, wspace=0.1))\n",
    "    for i, ax in enumerate(axes.flat):\n",
    "        ax.imshow(data[i].reshape(8, 8),\n",
    "                 cmap = 'binary', interpolation = 'nearest', clim = (0, 16))\n",
    "\n",
    "# 원본 이미지 출력        \n",
    "plot_digits(digits.data)"
   ]
  },
  {
   "cell_type": "code",
   "execution_count": 40,
   "id": "ee17e8ef",
   "metadata": {},
   "outputs": [
    {
     "data": {
      "image/png": "[encoded data removed]",
      "text/plain": [
       "<Figure size 1000x400 with 40 Axes>"
      ]
     },
     "metadata": {},
     "output_type": "display_data"
    }
   ],
   "source": [
    "# 데이터에 잡음 추가\n",
    "np.random.seed(21)\n",
    "noisy = np.random.normal(digits.data, 4)\n",
    "\n",
    "# 잡음 추가 결과 확인\n",
    "plot_digits(noisy)"
   ]
  },
  {
   "cell_type": "code",
   "execution_count": 44,
   "id": "d8050ed3",
   "metadata": {},
   "outputs": [
    {
     "name": "stdout",
     "output_type": "stream",
     "text": [
      "36\n"
     ]
    },
    {
     "data": {
      "image/png": "[encoded data removed]",
      "text/plain": [
       "<Figure size 1000x400 with 40 Axes>"
      ]
     },
     "metadata": {},
     "output_type": "display_data"
    }
   ],
   "source": [
    "# PCA 를 수행해서 잡음 제거 - 분산 비율 사용\n",
    "# PCA 를 사용해서 훈련하고 복원\n",
    "\n",
    "pca = PCA(n_components = 0.8).fit(noisy)\n",
    "# 주성분 갯수 확인\n",
    "print(pca.n_components_) # 36개의 주성분 사용\n",
    "\n",
    "# 잡음이 섞인 이미지에 주성분 분석을 수행\n",
    "components = pca.transform(noisy)\n",
    "# 주성분 분석 결과를 가지고 이미지 복원\n",
    "filtered = pca.inverse_transform(components)\n",
    "\n",
    "# 결과 확인\n",
    "plot_digits(filtered)"
   ]
  },
  {
   "cell_type": "code",
   "execution_count": null,
   "id": "23467183",
   "metadata": {},
   "outputs": [],
   "source": []
  },
  {
   "cell_type": "code",
   "execution_count": null,
   "id": "f006fdd2",
   "metadata": {},
   "outputs": [],
   "source": []
  },
  {
   "cell_type": "code",
   "execution_count": null,
   "id": "fad08a9f",
   "metadata": {},
   "outputs": [],
   "source": []
  },
  {
   "cell_type": "code",
   "execution_count": null,
   "id": "281d5c12",
   "metadata": {},
   "outputs": [],
   "source": []
  },
  {
   "cell_type": "code",
   "execution_count": null,
   "id": "fbb04918",
   "metadata": {},
   "outputs": [],
   "source": []
  },
  {
   "cell_type": "code",
   "execution_count": null,
   "id": "7f68b195",
   "metadata": {},
   "outputs": [],
   "source": []
  },
  {
   "cell_type": "code",
   "execution_count": null,
   "id": "a49d0b39",
   "metadata": {},
   "outputs": [],
   "source": []
  }
 ],
 "metadata": {
  "kernelspec": {
   "display_name": "Python 3 (ipykernel)",
   "language": "python",
   "name": "python3"
  },
  "language_info": {
   "codemirror_mode": {
    "name": "ipython",
    "version": 3
   },
   "file_extension": ".py",
   "mimetype": "text/x-python",
   "name": "python",
   "nbconvert_exporter": "python",
   "pygments_lexer": "ipython3",
   "version": "3.10.9"
  }
 },
 "nbformat": 4,
 "nbformat_minor": 5
}
